{
 "cells": [
  {
   "cell_type": "code",
   "execution_count": 12,
   "metadata": {},
   "outputs": [
    {
     "name": "stdout",
     "output_type": "stream",
     "text": [
      "Start Speaking....\n",
      "End Recoding...\n"
     ]
    },
    {
     "data": {
      "text/plain": [
       "<Figure size 432x288 with 0 Axes>"
      ]
     },
     "execution_count": 12,
     "metadata": {},
     "output_type": "execute_result"
    },
    {
     "data": {
      "image/png": "[encoded data removed]",
      "text/plain": [
       "<Figure size 432x288 with 1 Axes>"
      ]
     },
     "metadata": {
      "needs_background": "light"
     },
     "output_type": "display_data"
    },
    {
     "data": {
      "text/plain": [
       "<Figure size 432x288 with 0 Axes>"
      ]
     },
     "metadata": {},
     "output_type": "display_data"
    }
   ],
   "source": [
    "import matplotlib.pyplot as plt\n",
    "import sounddevice as sd\n",
    "from scipy.fftpack import fft\n",
    "import numpy as np\n",
    "\n",
    "\n",
    "#details for sound recordings\n",
    "Fs=16000\n",
    "d=3\n",
    "\n",
    "#record sound\n",
    "\n",
    "print('Start Speaking....')\n",
    "a= sd.rec(int(d*Fs),Fs,1,blocking='True')\n",
    "\n",
    "print('End Recoding...')\n",
    "\n",
    "#play\n",
    "sd.play(a,Fs)\n",
    "\n",
    "#plot the recorded wave\n",
    "plt.plot(a);plt.title('Recorded sound')\n",
    "\n",
    "#Spectrum\n",
    "X_f= fft(a)\n",
    "\n",
    "\n",
    "#create frequency axis\n",
    "n=np.size(a)\n",
    "fr=(Fs/2)*np.linspace(0,1,round(n/2))\n",
    "X_m=(2/n)*abs(X_f[0:np.size(fr)])\n",
    "\n",
    "\n",
    "#plot spectrum\n",
    "\n",
    "plt.figure()\n",
    "#plt.plot(fr,X_m); plt.xlabel('Frequency(Hz)')\n",
    "#plt.ylabel('Magnitude'); plt.title('Sound spectrum')\n"
   ]
  },
  {
   "cell_type": "code",
   "execution_count": null,
   "metadata": {},
   "outputs": [],
   "source": [
    "%%time\n",
    "#perform all audios though files\n",
    "\n",
    "for file in range(0,len(audio_files),1):\n",
    "    \n",
    "    audio,sfreq= lr.load(audio_files[file])\n",
    "    time =np.arange(0,len(audio))/sfreq\n",
    "    \n",
    "    \n",
    "    fig,ax = plt.subplots()\n",
    "    ax.plot(time,audio)\n",
    "    ax.set(xlabel='Time (s)',ylabel='Sound Amplititude')\n",
    "    plt.show()\n",
    "    "
   ]
  },
  {
   "cell_type": "code",
   "execution_count": null,
   "metadata": {},
   "outputs": [],
   "source": [
    "# importing the hashlib module\n",
    "import hashlib\n",
    "\n",
    "for file in range(0,len(audio_files),1):\n",
    "    \n",
    "    audio,sfreq= lr.load(audio_files[file])\n",
    "    time =np.arange(0,len(audio))/sfreq\n",
    "    \n",
    "    # Python rogram to find the SHA-1 message digest of a file\n",
    "\n",
    "\n",
    "\n",
    "    def hash_file(filename):\n",
    "        h = hashlib.sha1()\n",
    "    \n",
    "        with open(15791.wav,'rb') as file:\n",
    "            chunk = 0\n",
    "            while chunk != b'':\n",
    "                chunk = file.read(1024)\n",
    "                h.update(chunk)\n",
    "            \n",
    "        return h.hexdigest()\n",
    "    \n",
    "    \n",
    "    fig,ax = plt.subplots()\n",
    "    ax.plot(time,audio)\n",
    "    ax.set(xlabel='Time (s)',ylabel='Sound Amplititude')\n",
    "    plt.show()\n",
    "\n",
    "\n",
    "\n",
    "\n",
    "\n",
    "message = hash_file(r'C:\\Users\\Chamodi\\Desktop\\cybertech works\\track1.mp3')\n",
    "print(message)\n",
    "    "
   ]
  },
  {
   "cell_type": "code",
   "execution_count": 6,
   "metadata": {},
   "outputs": [
    {
     "ename": "SyntaxError",
     "evalue": "invalid syntax (<ipython-input-6-5878c09b12ee>, line 9)",
     "output_type": "error",
     "traceback": [
      "\u001b[1;36m  File \u001b[1;32m\"<ipython-input-6-5878c09b12ee>\"\u001b[1;36m, line \u001b[1;32m9\u001b[0m\n\u001b[1;33m    with open(15791.wav,'rb') as file:\u001b[0m\n\u001b[1;37m                    ^\u001b[0m\n\u001b[1;31mSyntaxError\u001b[0m\u001b[1;31m:\u001b[0m invalid syntax\n"
     ]
    }
   ],
   "source": [
    "# Python rogram to find the SHA-1 message digest of a file\n",
    "\n",
    "# importing the hashlib module\n",
    "import hashlib\n",
    "\n",
    "def hash_file(filename):\n",
    "    h = hashlib.sha1()\n",
    "    \n",
    "    with open(15791.wav,'rb') as file:\n",
    "        chunk = 0\n",
    "        while chunk != b'':\n",
    "            chunk = file.read(1024)\n",
    "            h.update(chunk)\n",
    "            \n",
    "    return h.hexdigest()\n",
    "\n",
    "\n",
    "message = hash_file(r'C:\\Users\\Chamodi\\Desktop\\cybertech works\\track1.mp3')\n",
    "print(message)"
   ]
  },
  {
   "cell_type": "code",
   "execution_count": null,
   "metadata": {},
   "outputs": [],
   "source": []
  }
 ],
 "metadata": {
  "kernelspec": {
   "display_name": "Python 3",
   "language": "python",
   "name": "python3"
  },
  "language_info": {
   "codemirror_mode": {
    "name": "ipython",
    "version": 3
   },
   "file_extension": ".py",
   "mimetype": "text/x-python",
   "name": "python",
   "nbconvert_exporter": "python",
   "pygments_lexer": "ipython3",
   "version": "3.8.3"
  }
 },
 "nbformat": 4,
 "nbformat_minor": 4
}
